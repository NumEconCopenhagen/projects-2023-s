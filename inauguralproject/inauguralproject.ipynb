{
 "cells": [
  {
   "cell_type": "markdown",
   "metadata": {},
   "source": [
    "# <a id='toc1_'></a>[Inaugural Project](#toc0_)"
   ]
  },
  {
   "attachments": {},
   "cell_type": "markdown",
   "metadata": {},
   "source": [
    "> **Note the following:** \n",
    "> 1. This is an example of how to structure your **inaugural project**.\n",
    "> 1. Remember the general advice on structuring and commenting your code\n",
    "> 1. The `inauguralproject.py` file includes a function which can be used multiple times in this notebook."
   ]
  },
  {
   "cell_type": "markdown",
   "metadata": {},
   "source": [
    "**Table of contents**<a id='toc0_'></a>    \n",
    "- [Inaugural Project](#toc1_)    \n",
    "  - [Member](#toc1_1_)    \n",
    "- [Question 1](#toc2_)    \n",
    "- [Question 2](#toc3_)    \n",
    "- [Question 3](#toc4_)    \n",
    "- [Question 4](#toc5_)    \n",
    "- [Question 5](#toc6_)    \n",
    "\n",
    "<!-- vscode-jupyter-toc-config\n",
    "\tnumbering=false\n",
    "\tanchor=true\n",
    "\tflat=false\n",
    "\tminLevel=1\n",
    "\tmaxLevel=6\n",
    "\t/vscode-jupyter-toc-config -->\n",
    "<!-- THIS CELL WILL BE REPLACED ON TOC UPDATE. DO NOT WRITE YOUR TEXT IN THIS CELL -->"
   ]
  },
  {
   "cell_type": "markdown",
   "metadata": {},
   "source": [
    "## <a id='toc1_1_'></a>[Member](#toc0_)\n",
    "- [Emil Kjems](https://github.com/E-Kjems)"
   ]
  },
  {
   "cell_type": "markdown",
   "metadata": {},
   "source": [
    "Imports and set magics:"
   ]
  },
  {
   "cell_type": "code",
   "execution_count": 102,
   "metadata": {},
   "outputs": [
    {
     "name": "stdout",
     "output_type": "stream",
     "text": [
      "The autoreload extension is already loaded. To reload it, use:\n",
      "  %reload_ext autoreload\n"
     ]
    }
   ],
   "source": [
    "import numpy as np\n",
    "import matplotlib.pyplot as plt\n",
    "import pandas as pd\n",
    "import scipy.optimize as opt\n",
    "\n",
    "# autoreload modules when code is run. Otherwise, python will not see recent changes. \n",
    "%load_ext autoreload\n",
    "%autoreload 2\n",
    "\n",
    "# Import your own code\n",
    "import inauguralproject\n",
    "from HouseholdSpecializationModel import HouseholdSpecializationModelClass\n",
    "# Defining model\n",
    "model = HouseholdSpecializationModelClass()"
   ]
  },
  {
   "cell_type": "markdown",
   "metadata": {},
   "source": [
    "# <a id='toc2_'></a>[Question 1](#toc0_)"
   ]
  },
  {
   "cell_type": "markdown",
   "metadata": {},
   "source": [
    "**Explain how you solve the model**"
   ]
  },
  {
   "cell_type": "code",
   "execution_count": 103,
   "metadata": {},
   "outputs": [],
   "source": [
    "# code for solving the model (remember documentation and comments)\n",
    "\n",
    "# a = np.array([1,2,3])\n",
    "# b = inauguralproject.square(a)\n",
    "# print(b)"
   ]
  },
  {
   "cell_type": "code",
   "execution_count": 104,
   "metadata": {},
   "outputs": [
    {
     "name": "stderr",
     "output_type": "stream",
     "text": [
      "/Users/emil/Desktop/6. semester/Introduction to programming and numerical analysis/projects-2023-s/inauguralproject/HouseholdSpecializationModel.py:64: RuntimeWarning: divide by zero encountered in reciprocal\n",
      "  H = ((1-par.alpha)*HM**((par.sigma-1)/par.sigma)+par.alpha*HF**((par.sigma-1)/par.sigma))**(par.sigma/(par.sigma-1))\n"
     ]
    },
    {
     "data": {
      "text/html": [
       "<style  type=\"text/css\" >\n",
       "</style><table id=\"T_2ec86_\" ><thead>    <tr>        <th class=\"blank\" ></th>        <th class=\"blank level0\" ></th>        <th class=\"col_heading level0 col0\" >HF</th>        <th class=\"col_heading level0 col1\" >HM</th>        <th class=\"col_heading level0 col2\" >HF/HM</th>    </tr>    <tr>        <th class=\"index_name level0\" >alpha</th>        <th class=\"index_name level1\" >sigma</th>        <th class=\"blank\" ></th>        <th class=\"blank\" ></th>        <th class=\"blank\" ></th>    </tr></thead><tbody>\n",
       "                <tr>\n",
       "                        <th id=\"T_2ec86_level0_row0\" class=\"row_heading level0 row0\" rowspan=\"3\">0.25</th>\n",
       "                        <th id=\"T_2ec86_level1_row0\" class=\"row_heading level1 row0\" >0.5</th>\n",
       "                        <td id=\"T_2ec86_row0_col0\" class=\"data row0 col0\" >3.0</td>\n",
       "                        <td id=\"T_2ec86_row0_col1\" class=\"data row0 col1\" >5.5</td>\n",
       "                        <td id=\"T_2ec86_row0_col2\" class=\"data row0 col2\" >0.55</td>\n",
       "            </tr>\n",
       "            <tr>\n",
       "                                <th id=\"T_2ec86_level1_row1\" class=\"row_heading level1 row1\" >1.0</th>\n",
       "                        <td id=\"T_2ec86_row1_col0\" class=\"data row1 col0\" >2.0</td>\n",
       "                        <td id=\"T_2ec86_row1_col1\" class=\"data row1 col1\" >6.5</td>\n",
       "                        <td id=\"T_2ec86_row1_col2\" class=\"data row1 col2\" >0.31</td>\n",
       "            </tr>\n",
       "            <tr>\n",
       "                                <th id=\"T_2ec86_level1_row2\" class=\"row_heading level1 row2\" >1.5</th>\n",
       "                        <td id=\"T_2ec86_row2_col0\" class=\"data row2 col0\" >1.5</td>\n",
       "                        <td id=\"T_2ec86_row2_col1\" class=\"data row2 col1\" >7.0</td>\n",
       "                        <td id=\"T_2ec86_row2_col2\" class=\"data row2 col2\" >0.21</td>\n",
       "            </tr>\n",
       "            <tr>\n",
       "                        <th id=\"T_2ec86_level0_row3\" class=\"row_heading level0 row3\" rowspan=\"3\">0.5</th>\n",
       "                        <th id=\"T_2ec86_level1_row3\" class=\"row_heading level1 row3\" >0.5</th>\n",
       "                        <td id=\"T_2ec86_row3_col0\" class=\"data row3 col0\" >4.5</td>\n",
       "                        <td id=\"T_2ec86_row3_col1\" class=\"data row3 col1\" >4.5</td>\n",
       "                        <td id=\"T_2ec86_row3_col2\" class=\"data row3 col2\" >1.00</td>\n",
       "            </tr>\n",
       "            <tr>\n",
       "                                <th id=\"T_2ec86_level1_row4\" class=\"row_heading level1 row4\" >1.0</th>\n",
       "                        <td id=\"T_2ec86_row4_col0\" class=\"data row4 col0\" >4.5</td>\n",
       "                        <td id=\"T_2ec86_row4_col1\" class=\"data row4 col1\" >4.5</td>\n",
       "                        <td id=\"T_2ec86_row4_col2\" class=\"data row4 col2\" >1.00</td>\n",
       "            </tr>\n",
       "            <tr>\n",
       "                                <th id=\"T_2ec86_level1_row5\" class=\"row_heading level1 row5\" >1.5</th>\n",
       "                        <td id=\"T_2ec86_row5_col0\" class=\"data row5 col0\" >4.5</td>\n",
       "                        <td id=\"T_2ec86_row5_col1\" class=\"data row5 col1\" >4.5</td>\n",
       "                        <td id=\"T_2ec86_row5_col2\" class=\"data row5 col2\" >1.00</td>\n",
       "            </tr>\n",
       "            <tr>\n",
       "                        <th id=\"T_2ec86_level0_row6\" class=\"row_heading level0 row6\" rowspan=\"3\">0.75</th>\n",
       "                        <th id=\"T_2ec86_level1_row6\" class=\"row_heading level1 row6\" >0.5</th>\n",
       "                        <td id=\"T_2ec86_row6_col0\" class=\"data row6 col0\" >5.5</td>\n",
       "                        <td id=\"T_2ec86_row6_col1\" class=\"data row6 col1\" >3.0</td>\n",
       "                        <td id=\"T_2ec86_row6_col2\" class=\"data row6 col2\" >1.83</td>\n",
       "            </tr>\n",
       "            <tr>\n",
       "                                <th id=\"T_2ec86_level1_row7\" class=\"row_heading level1 row7\" >1.0</th>\n",
       "                        <td id=\"T_2ec86_row7_col0\" class=\"data row7 col0\" >6.5</td>\n",
       "                        <td id=\"T_2ec86_row7_col1\" class=\"data row7 col1\" >2.0</td>\n",
       "                        <td id=\"T_2ec86_row7_col2\" class=\"data row7 col2\" >3.25</td>\n",
       "            </tr>\n",
       "            <tr>\n",
       "                                <th id=\"T_2ec86_level1_row8\" class=\"row_heading level1 row8\" >1.5</th>\n",
       "                        <td id=\"T_2ec86_row8_col0\" class=\"data row8 col0\" >7.0</td>\n",
       "                        <td id=\"T_2ec86_row8_col1\" class=\"data row8 col1\" >1.5</td>\n",
       "                        <td id=\"T_2ec86_row8_col2\" class=\"data row8 col2\" >4.67</td>\n",
       "            </tr>\n",
       "    </tbody></table>"
      ],
      "text/plain": [
       "<pandas.io.formats.style.Styler at 0x7fb8a89120d0>"
      ]
     },
     "metadata": {},
     "output_type": "display_data"
    }
   ],
   "source": [
    "# create empty list to store results\n",
    "results = []\n",
    "\n",
    "# Making the varying alpha and sigma\n",
    "alpha_list = [0.25, 0.5, 0.75]\n",
    "sigma_list = [0.5, 1.0, 1.5]\n",
    "\n",
    "# loop through each combination of alpha and sigma\n",
    "for alpha in alpha_list:    \n",
    "    for sigma in sigma_list:\n",
    "        # assigning the different value to alpha and sigma\n",
    "        model.par.alpha = alpha\n",
    "        model.par.sigma = sigma\n",
    "\n",
    "        # Solving the model with the new different values of alpha and sigma\n",
    "        opt = model.solve_discrete()\n",
    "\n",
    "        # append results to list\n",
    "        results.append({'alpha': alpha, 'sigma': sigma, 'HF': opt.HF, 'HM': opt.HM, 'HF/HM': opt.HF/opt.HM})\n",
    "\n",
    "# create dataframe from results\n",
    "df = pd.DataFrame(results).round({'HF/HM': 2})\n",
    "\n",
    "# set alpha and sigma columns as index\n",
    "df.set_index(['alpha', 'sigma'], inplace=True)\n",
    "\n",
    "# apply formatting to the dataframe\n",
    "styled_df = df.style.format({'HF': '{:.1f}', 'HM': '{:.1f}', 'HF/HM': '{:.2f}'})\n",
    "\n",
    "# display the styled dataframe\n",
    "display(styled_df)"
   ]
  },
  {
   "cell_type": "markdown",
   "metadata": {},
   "source": [
    "# <a id='toc3_'></a>[Question 2](#toc0_)"
   ]
  },
  {
   "cell_type": "markdown",
   "metadata": {},
   "source": [
    "Explain your code and procedure"
   ]
  },
  {
   "cell_type": "code",
   "execution_count": 105,
   "metadata": {},
   "outputs": [
    {
     "data": {
      "image/png": "[encoded data removed]",
      "text/plain": [
       "<Figure size 576x432 with 1 Axes>"
      ]
     },
     "metadata": {
      "needs_background": "light"
     },
     "output_type": "display_data"
    }
   ],
   "source": [
    "# Resetting alpha and sigma to their respective baseline values\n",
    "model.par.alpha = 0.5\n",
    "model.par.sigma = 1.0\n",
    "\n",
    "# Defining male and female wages and retrieving them from HouseholdSpecializationModel\n",
    "wF = model.par.wF_vec\n",
    "wM = model.par.wM\n",
    "\n",
    "# Creating empty lists for the values of log(HF/HM) and log(wF/wM)\n",
    "log_ratio = []\n",
    "log_wages = []\n",
    "\n",
    "# Finding the optimal values for HF and HM by iteration using the discrete solver\n",
    "# And appending them to the lists above\n",
    "for femalewages in wF:\n",
    "    model.par.wF = femalewages\n",
    "    opt = model.solve_discrete()\n",
    "    log_ratio.append(np.log(opt.HF/opt.HM))\n",
    "    log_wages.append(np.log(femalewages/wM))\n",
    "\n",
    "# Choose a visually appealing color palette\n",
    "cmap = plt.get_cmap('viridis')\n",
    "\n",
    "# Increase the size of the plot\n",
    "fig, ax = plt.subplots(figsize=(8, 6))\n",
    "\n",
    "# Plot log(HF/HM) and log(wF/wM) against each other\n",
    "ax.plot(log_wages, log_ratio, color=cmap(0.5))\n",
    "\n",
    "# Add grid lines\n",
    "ax.grid(True, which='both')\n",
    "\n",
    "# Add x and y axis labels and title\n",
    "ax.set_xlabel(\"$log(w_{F}/w_{M})$\", fontsize=15)\n",
    "ax.set_ylabel(\"$log(H_{F}/H_{M})$\", fontsize=15)\n",
    "ax.set_title(\"Relative home production to relative income\", fontsize=15)\n",
    "\n",
    "# Show the plot\n",
    "plt.show()"
   ]
  },
  {
   "cell_type": "markdown",
   "metadata": {},
   "source": [
    "# <a id='toc4_'></a>[Question 3](#toc0_)"
   ]
  },
  {
   "cell_type": "markdown",
   "metadata": {},
   "source": [
    "Explain your code and procedure"
   ]
  },
  {
   "cell_type": "code",
   "execution_count": 106,
   "metadata": {},
   "outputs": [
    {
     "data": {
      "image/png": "[encoded data removed]",
      "text/plain": [
       "<Figure size 576x432 with 1 Axes>"
      ]
     },
     "metadata": {
      "needs_background": "light"
     },
     "output_type": "display_data"
    }
   ],
   "source": [
    "# Resetting alpha and sigma to their respective baseline values\n",
    "model.par.alpha = 0.5\n",
    "model.par.sigma = 1.0\n",
    "\n",
    "# Defining male and female wages and retrieving them from HouseholdSpecializationModel\n",
    "wF = model.par.wF_vec\n",
    "wM = model.par.wM\n",
    "\n",
    "# Creating empty lists for the values of log(HF/HM) and log(wF/wM)\n",
    "log_ratio = []\n",
    "log_wages = []\n",
    "\n",
    "# Finding the optimal values for HF and HM by iteration using the continous solver\n",
    "# And appending them to the lists above\n",
    "for femalewages in wF:\n",
    "    model.par.wF = femalewages\n",
    "    opt = model.solve_continuous()\n",
    "    log_ratio.append(np.log(opt.HF/opt.HM))\n",
    "    log_wages.append(np.log(femalewages/wM))\n",
    "\n",
    "# Choose a visually appealing color palette\n",
    "cmap = plt.get_cmap('viridis')\n",
    "\n",
    "# Increase the size of the plot\n",
    "fig, ax = plt.subplots(figsize=(8, 6))\n",
    "\n",
    "# Plot log(HF/HM) and log(wF/wM) against each other\n",
    "ax.plot(log_wages, log_ratio, color=cmap(0.5))\n",
    "\n",
    "# Add grid lines\n",
    "ax.grid(True, which='both')\n",
    "\n",
    "# Add x and y axis labels and title\n",
    "ax.set_xlabel(\"$log(w_{F}/w_{M})$\", fontsize=15)\n",
    "ax.set_ylabel(\"$log(H_{F}/H_{M})$\", fontsize=15)\n",
    "ax.set_title(\"Relative home production to relative income\", fontsize=15)\n",
    "\n",
    "# Show the plot\n",
    "plt.show()"
   ]
  },
  {
   "cell_type": "markdown",
   "metadata": {},
   "source": [
    "# <a id='toc5_'></a>[Question 4](#toc0_)"
   ]
  },
  {
   "cell_type": "markdown",
   "metadata": {},
   "source": [
    "Explain your code and procedure"
   ]
  },
  {
   "cell_type": "code",
   "execution_count": 107,
   "metadata": {},
   "outputs": [
    {
     "name": "stderr",
     "output_type": "stream",
     "text": [
      "/Users/emil/opt/anaconda3/lib/python3.8/site-packages/scipy/optimize/_minimize.py:535: RuntimeWarning: Method Nelder-Mead cannot handle constraints nor bounds.\n",
      "  warn('Method %s cannot handle constraints nor bounds.' % method,\n"
     ]
    },
    {
     "ename": "AttributeError",
     "evalue": "'HouseholdSpecializationModelClass' object has no attribute 'solve_wF_vec'",
     "output_type": "error",
     "traceback": [
      "\u001b[0;31m---------------------------------------------------------------------------\u001b[0m",
      "\u001b[0;31mAttributeError\u001b[0m                            Traceback (most recent call last)",
      "\u001b[0;32m<ipython-input-107-eb498612da56>\u001b[0m in \u001b[0;36m<module>\u001b[0;34m\u001b[0m\n\u001b[1;32m      1\u001b[0m \u001b[0;31m# a. use the 'estimate' function to estimate the optimal alpha and sigma\u001b[0m\u001b[0;34m\u001b[0m\u001b[0;34m\u001b[0m\u001b[0;34m\u001b[0m\u001b[0m\n\u001b[0;32m----> 2\u001b[0;31m \u001b[0mmodel\u001b[0m\u001b[0;34m.\u001b[0m\u001b[0mestimate\u001b[0m\u001b[0;34m(\u001b[0m\u001b[0;34m)\u001b[0m\u001b[0;34m\u001b[0m\u001b[0;34m\u001b[0m\u001b[0m\n\u001b[0m\u001b[1;32m      3\u001b[0m \u001b[0;34m\u001b[0m\u001b[0m\n\u001b[1;32m      4\u001b[0m \u001b[0;31m# b. find the log H ratio\u001b[0m\u001b[0;34m\u001b[0m\u001b[0;34m\u001b[0m\u001b[0;34m\u001b[0m\u001b[0m\n\u001b[1;32m      5\u001b[0m \u001b[0mlog_H_ratio\u001b[0m \u001b[0;34m=\u001b[0m \u001b[0mnp\u001b[0m\u001b[0;34m.\u001b[0m\u001b[0mlog\u001b[0m\u001b[0;34m(\u001b[0m\u001b[0mmodel\u001b[0m\u001b[0;34m.\u001b[0m\u001b[0msol\u001b[0m\u001b[0;34m.\u001b[0m\u001b[0mHF_vec\u001b[0m\u001b[0;34m/\u001b[0m\u001b[0mmodel\u001b[0m\u001b[0;34m.\u001b[0m\u001b[0msol\u001b[0m\u001b[0;34m.\u001b[0m\u001b[0mHM_vec\u001b[0m\u001b[0;34m)\u001b[0m\u001b[0;34m\u001b[0m\u001b[0;34m\u001b[0m\u001b[0m\n",
      "\u001b[0;32m~/Desktop/6. semester/Introduction to programming and numerical analysis/projects-2023-s/inauguralproject/HouseholdSpecializationModel.py\u001b[0m in \u001b[0;36mestimate\u001b[0;34m(self, alpha)\u001b[0m\n\u001b[1;32m    168\u001b[0m             \u001b[0mguess\u001b[0m \u001b[0;34m=\u001b[0m \u001b[0;34m[\u001b[0m\u001b[0;36m0.5\u001b[0m\u001b[0;34m,\u001b[0m \u001b[0;36m0.5\u001b[0m\u001b[0;34m]\u001b[0m  \u001b[0;31m# initial guess for sigma and alpha\u001b[0m\u001b[0;34m\u001b[0m\u001b[0;34m\u001b[0m\u001b[0m\n\u001b[1;32m    169\u001b[0m             \u001b[0mbounds\u001b[0m \u001b[0;34m=\u001b[0m \u001b[0;34m[\u001b[0m\u001b[0;34m(\u001b[0m\u001b[0;36m1e-5\u001b[0m\u001b[0;34m)\u001b[0m\u001b[0;34m*\u001b[0m\u001b[0;36m2\u001b[0m\u001b[0;34m]\u001b[0m  \u001b[0;31m# bounds for sigma and alpha\u001b[0m\u001b[0;34m\u001b[0m\u001b[0;34m\u001b[0m\u001b[0m\n\u001b[0;32m--> 170\u001b[0;31m             \u001b[0mresult\u001b[0m \u001b[0;34m=\u001b[0m \u001b[0moptimize\u001b[0m\u001b[0;34m.\u001b[0m\u001b[0mminimize\u001b[0m\u001b[0;34m(\u001b[0m\u001b[0mobjective\u001b[0m\u001b[0;34m,\u001b[0m \u001b[0mguess\u001b[0m\u001b[0;34m,\u001b[0m \u001b[0mmethod\u001b[0m\u001b[0;34m=\u001b[0m\u001b[0;34m'Nelder-Mead'\u001b[0m\u001b[0;34m,\u001b[0m \u001b[0mbounds\u001b[0m\u001b[0;34m=\u001b[0m\u001b[0mbounds\u001b[0m\u001b[0;34m)\u001b[0m\u001b[0;34m\u001b[0m\u001b[0;34m\u001b[0m\u001b[0m\n\u001b[0m\u001b[1;32m    171\u001b[0m             \u001b[0mprint\u001b[0m\u001b[0;34m(\u001b[0m\u001b[0;34mf'alpha = {result.x[1]}'\u001b[0m\u001b[0;34m)\u001b[0m\u001b[0;34m\u001b[0m\u001b[0;34m\u001b[0m\u001b[0m\n\u001b[1;32m    172\u001b[0m             \u001b[0mprint\u001b[0m\u001b[0;34m(\u001b[0m\u001b[0;34mf'sigma = {result.x[0]}'\u001b[0m\u001b[0;34m)\u001b[0m\u001b[0;34m\u001b[0m\u001b[0;34m\u001b[0m\u001b[0m\n",
      "\u001b[0;32m~/opt/anaconda3/lib/python3.8/site-packages/scipy/optimize/_minimize.py\u001b[0m in \u001b[0;36mminimize\u001b[0;34m(fun, x0, args, method, jac, hess, hessp, bounds, constraints, tol, callback, options)\u001b[0m\n\u001b[1;32m    606\u001b[0m \u001b[0;34m\u001b[0m\u001b[0m\n\u001b[1;32m    607\u001b[0m     \u001b[0;32mif\u001b[0m \u001b[0mmeth\u001b[0m \u001b[0;34m==\u001b[0m \u001b[0;34m'nelder-mead'\u001b[0m\u001b[0;34m:\u001b[0m\u001b[0;34m\u001b[0m\u001b[0;34m\u001b[0m\u001b[0m\n\u001b[0;32m--> 608\u001b[0;31m         \u001b[0;32mreturn\u001b[0m \u001b[0m_minimize_neldermead\u001b[0m\u001b[0;34m(\u001b[0m\u001b[0mfun\u001b[0m\u001b[0;34m,\u001b[0m \u001b[0mx0\u001b[0m\u001b[0;34m,\u001b[0m \u001b[0margs\u001b[0m\u001b[0;34m,\u001b[0m \u001b[0mcallback\u001b[0m\u001b[0;34m,\u001b[0m \u001b[0;34m**\u001b[0m\u001b[0moptions\u001b[0m\u001b[0;34m)\u001b[0m\u001b[0;34m\u001b[0m\u001b[0;34m\u001b[0m\u001b[0m\n\u001b[0m\u001b[1;32m    609\u001b[0m     \u001b[0;32melif\u001b[0m \u001b[0mmeth\u001b[0m \u001b[0;34m==\u001b[0m \u001b[0;34m'powell'\u001b[0m\u001b[0;34m:\u001b[0m\u001b[0;34m\u001b[0m\u001b[0;34m\u001b[0m\u001b[0m\n\u001b[1;32m    610\u001b[0m         \u001b[0;32mreturn\u001b[0m \u001b[0m_minimize_powell\u001b[0m\u001b[0;34m(\u001b[0m\u001b[0mfun\u001b[0m\u001b[0;34m,\u001b[0m \u001b[0mx0\u001b[0m\u001b[0;34m,\u001b[0m \u001b[0margs\u001b[0m\u001b[0;34m,\u001b[0m \u001b[0mcallback\u001b[0m\u001b[0;34m,\u001b[0m \u001b[0mbounds\u001b[0m\u001b[0;34m,\u001b[0m \u001b[0;34m**\u001b[0m\u001b[0moptions\u001b[0m\u001b[0;34m)\u001b[0m\u001b[0;34m\u001b[0m\u001b[0;34m\u001b[0m\u001b[0m\n",
      "\u001b[0;32m~/opt/anaconda3/lib/python3.8/site-packages/scipy/optimize/optimize.py\u001b[0m in \u001b[0;36m_minimize_neldermead\u001b[0;34m(func, x0, args, callback, maxiter, maxfev, disp, return_all, initial_simplex, xatol, fatol, adaptive, **unknown_options)\u001b[0m\n\u001b[1;32m    721\u001b[0m \u001b[0;34m\u001b[0m\u001b[0m\n\u001b[1;32m    722\u001b[0m     \u001b[0;32mfor\u001b[0m \u001b[0mk\u001b[0m \u001b[0;32min\u001b[0m \u001b[0mrange\u001b[0m\u001b[0;34m(\u001b[0m\u001b[0mN\u001b[0m \u001b[0;34m+\u001b[0m \u001b[0;36m1\u001b[0m\u001b[0;34m)\u001b[0m\u001b[0;34m:\u001b[0m\u001b[0;34m\u001b[0m\u001b[0;34m\u001b[0m\u001b[0m\n\u001b[0;32m--> 723\u001b[0;31m         \u001b[0mfsim\u001b[0m\u001b[0;34m[\u001b[0m\u001b[0mk\u001b[0m\u001b[0;34m]\u001b[0m \u001b[0;34m=\u001b[0m \u001b[0mfunc\u001b[0m\u001b[0;34m(\u001b[0m\u001b[0msim\u001b[0m\u001b[0;34m[\u001b[0m\u001b[0mk\u001b[0m\u001b[0;34m]\u001b[0m\u001b[0;34m)\u001b[0m\u001b[0;34m\u001b[0m\u001b[0;34m\u001b[0m\u001b[0m\n\u001b[0m\u001b[1;32m    724\u001b[0m \u001b[0;34m\u001b[0m\u001b[0m\n\u001b[1;32m    725\u001b[0m     \u001b[0mind\u001b[0m \u001b[0;34m=\u001b[0m \u001b[0mnp\u001b[0m\u001b[0;34m.\u001b[0m\u001b[0margsort\u001b[0m\u001b[0;34m(\u001b[0m\u001b[0mfsim\u001b[0m\u001b[0;34m)\u001b[0m\u001b[0;34m\u001b[0m\u001b[0;34m\u001b[0m\u001b[0m\n",
      "\u001b[0;32m~/opt/anaconda3/lib/python3.8/site-packages/scipy/optimize/optimize.py\u001b[0m in \u001b[0;36mfunction_wrapper\u001b[0;34m(*wrapper_args)\u001b[0m\n\u001b[1;32m    459\u001b[0m     \u001b[0;32mdef\u001b[0m \u001b[0mfunction_wrapper\u001b[0m\u001b[0;34m(\u001b[0m\u001b[0;34m*\u001b[0m\u001b[0mwrapper_args\u001b[0m\u001b[0;34m)\u001b[0m\u001b[0;34m:\u001b[0m\u001b[0;34m\u001b[0m\u001b[0;34m\u001b[0m\u001b[0m\n\u001b[1;32m    460\u001b[0m         \u001b[0mncalls\u001b[0m\u001b[0;34m[\u001b[0m\u001b[0;36m0\u001b[0m\u001b[0;34m]\u001b[0m \u001b[0;34m+=\u001b[0m \u001b[0;36m1\u001b[0m\u001b[0;34m\u001b[0m\u001b[0;34m\u001b[0m\u001b[0m\n\u001b[0;32m--> 461\u001b[0;31m         \u001b[0;32mreturn\u001b[0m \u001b[0mfunction\u001b[0m\u001b[0;34m(\u001b[0m\u001b[0;34m*\u001b[0m\u001b[0;34m(\u001b[0m\u001b[0mwrapper_args\u001b[0m \u001b[0;34m+\u001b[0m \u001b[0margs\u001b[0m\u001b[0;34m)\u001b[0m\u001b[0;34m)\u001b[0m\u001b[0;34m\u001b[0m\u001b[0;34m\u001b[0m\u001b[0m\n\u001b[0m\u001b[1;32m    462\u001b[0m \u001b[0;34m\u001b[0m\u001b[0m\n\u001b[1;32m    463\u001b[0m     \u001b[0;32mreturn\u001b[0m \u001b[0mncalls\u001b[0m\u001b[0;34m,\u001b[0m \u001b[0mfunction_wrapper\u001b[0m\u001b[0;34m\u001b[0m\u001b[0;34m\u001b[0m\u001b[0m\n",
      "\u001b[0;32m~/Desktop/6. semester/Introduction to programming and numerical analysis/projects-2023-s/inauguralproject/HouseholdSpecializationModel.py\u001b[0m in \u001b[0;36mobjective\u001b[0;34m(y)\u001b[0m\n\u001b[1;32m    161\u001b[0m                 \u001b[0mpar\u001b[0m\u001b[0;34m.\u001b[0m\u001b[0msigma\u001b[0m \u001b[0;34m=\u001b[0m \u001b[0my\u001b[0m\u001b[0;34m[\u001b[0m\u001b[0;36m1\u001b[0m\u001b[0;34m]\u001b[0m\u001b[0;34m\u001b[0m\u001b[0;34m\u001b[0m\u001b[0m\n\u001b[1;32m    162\u001b[0m                 \u001b[0mpar\u001b[0m\u001b[0;34m.\u001b[0m\u001b[0malpha\u001b[0m \u001b[0;34m=\u001b[0m \u001b[0my\u001b[0m\u001b[0;34m[\u001b[0m\u001b[0;36m0\u001b[0m\u001b[0;34m]\u001b[0m\u001b[0;34m\u001b[0m\u001b[0;34m\u001b[0m\u001b[0m\n\u001b[0;32m--> 163\u001b[0;31m                 \u001b[0mself\u001b[0m\u001b[0;34m.\u001b[0m\u001b[0msolve_wF_vec\u001b[0m\u001b[0;34m(\u001b[0m\u001b[0;34m)\u001b[0m\u001b[0;34m\u001b[0m\u001b[0;34m\u001b[0m\u001b[0m\n\u001b[0m\u001b[1;32m    164\u001b[0m                 \u001b[0mself\u001b[0m\u001b[0;34m.\u001b[0m\u001b[0mrun_regression\u001b[0m\u001b[0;34m(\u001b[0m\u001b[0;34m)\u001b[0m\u001b[0;34m\u001b[0m\u001b[0;34m\u001b[0m\u001b[0m\n\u001b[1;32m    165\u001b[0m                 \u001b[0;32mreturn\u001b[0m \u001b[0;34m(\u001b[0m\u001b[0mpar\u001b[0m\u001b[0;34m.\u001b[0m\u001b[0mbeta0_target\u001b[0m \u001b[0;34m-\u001b[0m \u001b[0msol\u001b[0m\u001b[0;34m.\u001b[0m\u001b[0mbeta0\u001b[0m\u001b[0;34m)\u001b[0m\u001b[0;34m**\u001b[0m\u001b[0;36m2\u001b[0m \u001b[0;34m+\u001b[0m \u001b[0;34m(\u001b[0m\u001b[0mpar\u001b[0m\u001b[0;34m.\u001b[0m\u001b[0mbeta1_target\u001b[0m \u001b[0;34m-\u001b[0m \u001b[0msol\u001b[0m\u001b[0;34m.\u001b[0m\u001b[0mbeta1\u001b[0m\u001b[0;34m)\u001b[0m\u001b[0;34m**\u001b[0m\u001b[0;36m2\u001b[0m\u001b[0;34m\u001b[0m\u001b[0;34m\u001b[0m\u001b[0m\n",
      "\u001b[0;31mAttributeError\u001b[0m: 'HouseholdSpecializationModelClass' object has no attribute 'solve_wF_vec'"
     ]
    }
   ],
   "source": [
    "# a. use the 'estimate' function to estimate the optimal alpha and sigma \n",
    "model.estimate()\n",
    "\n",
    "# b. find the log H ratio \n",
    "log_H_ratio = np.log(model.sol.HF_vec/model.sol.HM_vec)\n",
    "\n",
    "# c. construct a figure to illustrate the relationship between log H ratio and log w ratio \n",
    "fig4 = plt.figure()\n",
    "ax = fig4.add_subplot(1,1,1)\n",
    "# d. add the 'log_H_ratio' and the weights as scatterplot \n",
    "ax.scatter(np.log(model.par.wF_vec),log_H_ratio)\n",
    "# e. add the regression from the model \n",
    "ax.plot(np.log(model.par.wF_vec),model.par.beta0_target+model.par.beta1_target*np.log(model.par.wF_vec))\n",
    "# f. set title and axis labels \n",
    "ax.set_title('Log relationship between ratio of hours worked and ratio of wage')\n",
    "ax.set_xlabel('$log(\\omega_F/\\omega_M)$')\n",
    "ax.set_ylabel('$log(H_F/H_M)$')"
   ]
  },
  {
   "cell_type": "code",
   "execution_count": null,
   "metadata": {},
   "outputs": [],
   "source": [
    "print(f\"Estimated alpha: {result.x[1]:.3f}\")\n",
    "print(f\"Estimated sigma: {result.x[0]:.3f}\")"
   ]
  },
  {
   "cell_type": "markdown",
   "metadata": {},
   "source": []
  },
  {
   "cell_type": "markdown",
   "metadata": {},
   "source": [
    "# <a id='toc6_'></a>[Question 5](#toc0_)"
   ]
  },
  {
   "cell_type": "markdown",
   "metadata": {},
   "source": [
    "Explain your code and procedure"
   ]
  },
  {
   "cell_type": "code",
   "execution_count": null,
   "metadata": {},
   "outputs": [],
   "source": [
    "# code"
   ]
  },
  {
   "cell_type": "markdown",
   "metadata": {},
   "source": [
    "ADD CONCISE CONLUSION."
   ]
  }
 ],
 "metadata": {
  "kernelspec": {
   "display_name": "base",
   "language": "python",
   "name": "python3"
  },
  "language_info": {
   "codemirror_mode": {
    "name": "ipython",
    "version": 3
   },
   "file_extension": ".py",
   "mimetype": "text/x-python",
   "name": "python",
   "nbconvert_exporter": "python",
   "pygments_lexer": "ipython3",
   "version": "3.8.8"
  },
  "toc-autonumbering": true,
  "vscode": {
   "interpreter": {
    "hash": "47ef90cdf3004d3f859f1fb202523c65c07ba7c22eefd261b181f4744e2d0403"
   }
  }
 },
 "nbformat": 4,
 "nbformat_minor": 4
}
