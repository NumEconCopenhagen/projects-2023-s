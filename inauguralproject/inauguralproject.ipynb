{
 "cells": [
  {
   "cell_type": "markdown",
   "metadata": {},
   "source": [
    "# <a id='toc1_'></a>[Inaugural Project](#toc0_)"
   ]
  },
  {
   "attachments": {},
   "cell_type": "markdown",
   "metadata": {},
   "source": [
    "> **Note the following:** \n",
    "> 1. This is an example of how to structure your **inaugural project**.\n",
    "> 1. Remember the general advice on structuring and commenting your code\n",
    "> 1. The `inauguralproject.py` file includes a function which can be used multiple times in this notebook."
   ]
  },
  {
   "cell_type": "markdown",
   "metadata": {},
   "source": [
    "**Table of contents**<a id='toc0_'></a>    \n",
    "- [Inaugural Project](#toc1_)    \n",
    "  - [Member](#toc1_1_)    \n",
    "- [Question 1](#toc2_)    \n",
    "- [Question 2](#toc3_)    \n",
    "- [Question 3](#toc4_)    \n",
    "- [Question 4](#toc5_)    \n",
    "- [Question 5](#toc6_)    \n",
    "\n",
    "<!-- vscode-jupyter-toc-config\n",
    "\tnumbering=false\n",
    "\tanchor=true\n",
    "\tflat=false\n",
    "\tminLevel=1\n",
    "\tmaxLevel=6\n",
    "\t/vscode-jupyter-toc-config -->\n",
    "<!-- THIS CELL WILL BE REPLACED ON TOC UPDATE. DO NOT WRITE YOUR TEXT IN THIS CELL -->"
   ]
  },
  {
   "cell_type": "markdown",
   "metadata": {},
   "source": [
    "## <a id='toc1_1_'></a>[Member](#toc0_)\n",
    "- [Emil Kjems](https://github.com/E-Kjems)"
   ]
  },
  {
   "cell_type": "markdown",
   "metadata": {},
   "source": [
    "Imports and set magics:"
   ]
  },
  {
   "cell_type": "code",
   "execution_count": 126,
   "metadata": {},
   "outputs": [
    {
     "name": "stdout",
     "output_type": "stream",
     "text": [
      "The autoreload extension is already loaded. To reload it, use:\n",
      "  %reload_ext autoreload\n"
     ]
    }
   ],
   "source": [
    "import numpy as np\n",
    "import matplotlib.pyplot as plt\n",
    "import pandas as pd\n",
    "import scipy.optimize as opt\n",
    "\n",
    "# autoreload modules when code is run. Otherwise, python will not see recent changes. \n",
    "%load_ext autoreload\n",
    "%autoreload 2\n",
    "\n",
    "# Import your own code\n",
    "import inauguralproject\n",
    "from HouseholdSpecializationModel import HouseholdSpecializationModelClass\n",
    "# Defining model\n",
    "model = HouseholdSpecializationModelClass()"
   ]
  },
  {
   "cell_type": "markdown",
   "metadata": {},
   "source": [
    "# <a id='toc2_'></a>[Question 1](#toc0_)"
   ]
  },
  {
   "cell_type": "markdown",
   "metadata": {},
   "source": [
    "**Explain how you solve the model**"
   ]
  },
  {
   "cell_type": "code",
   "execution_count": 127,
   "metadata": {},
   "outputs": [],
   "source": [
    "# code for solving the model (remember documentation and comments)\n",
    "\n",
    "# a = np.array([1,2,3])\n",
    "# b = inauguralproject.square(a)\n",
    "# print(b)"
   ]
  },
  {
   "cell_type": "code",
   "execution_count": 128,
   "metadata": {},
   "outputs": [],
   "source": [
    "# create empty list to store results\n",
    "results = []\n",
    "\n",
    "# Making the varying alpha and sigma\n",
    "alpha_list = [0.25, 0.5, 0.75]\n",
    "sigma_list = [0.5, 1.0, 1.5]\n",
    "\n",
    "# loop through each combination of alpha and sigma\n",
    "for alpha in alpha_list:    \n",
    "    for sigma in sigma_list:\n",
    "        # assigning the different value to alpha and sigma\n",
    "        model.par.alpha = alpha\n",
    "        model.par.sigma = sigma\n",
    "\n",
    "        # Solving the model with the new different values of alpha and sigma\n",
    "        opt = model.solve_discrete()\n",
    "\n",
    "        # append results to list\n",
    "        results.append({'alpha': alpha, 'sigma': sigma, 'HF': opt.HF, 'HM': opt.HM, 'HF/HM': opt.HF/opt.HM})\n",
    "\n",
    "# create dataframe from results\n",
    "df = pd.DataFrame(results).round({'HF/HM': 2})\n",
    "\n",
    "# set alpha and sigma columns as index\n",
    "df.set_index(['alpha', 'sigma'], inplace=True)\n",
    "\n",
    "# apply formatting to the dataframe\n",
    "styled_df = df.style.format({'HF': '{:.1f}', 'HM': '{:.1f}', 'HF/HM': '{:.2f}'})\n",
    "\n",
    "# display the styled dataframe\n",
    "display(styled_df)"
   ]
  },
  {
   "cell_type": "markdown",
   "metadata": {},
   "source": [
    "# <a id='toc3_'></a>[Question 2](#toc0_)"
   ]
  },
  {
   "cell_type": "markdown",
   "metadata": {},
   "source": [
    "Explain your code and procedure"
   ]
  },
  {
   "cell_type": "code",
   "execution_count": null,
   "metadata": {},
   "outputs": [],
   "source": [
    "# Resetting alpha and sigma to their respective baseline values\n",
    "model.par.alpha = 0.5\n",
    "model.par.sigma = 1.0\n",
    "\n",
    "# Defining male and female wages and retrieving them from HouseholdSpecializationModel\n",
    "wF = model.par.wF_vec\n",
    "wM = model.par.wM\n",
    "\n",
    "# Creating empty lists for the values of log(HF/HM) and log(wF/wM)\n",
    "log_ratio = []\n",
    "log_wages = []\n",
    "\n",
    "# Finding the optimal values for HF and HM by iteration using the discrete solver\n",
    "# And appending them to the lists above\n",
    "for femalewages in wF:\n",
    "    model.par.wF = femalewages\n",
    "    opt = model.solve_discrete()\n",
    "    log_ratio.append(np.log(opt.HF/opt.HM))\n",
    "    log_wages.append(np.log(femalewages/wM))\n",
    "\n",
    "# Choose a visually appealing color palette\n",
    "cmap = plt.get_cmap('viridis')\n",
    "\n",
    "# Increase the size of the plot\n",
    "fig, ax = plt.subplots(figsize=(8, 6))\n",
    "\n",
    "# Plot log(HF/HM) and log(wF/wM) against each other\n",
    "ax.plot(log_wages, log_ratio, color=cmap(0.5))\n",
    "\n",
    "# Add grid lines\n",
    "ax.grid(True, which='both')\n",
    "\n",
    "# Add x and y axis labels and title\n",
    "ax.set_xlabel(\"$log(w_{F}/w_{M})$\", fontsize=15)\n",
    "ax.set_ylabel(\"$log(H_{F}/H_{M})$\", fontsize=15)\n",
    "ax.set_title(\"Relative home production to relative income\", fontsize=15)\n",
    "\n",
    "# Show the plot\n",
    "plt.show()"
   ]
  },
  {
   "cell_type": "markdown",
   "metadata": {},
   "source": [
    "# <a id='toc4_'></a>[Question 3](#toc0_)"
   ]
  },
  {
   "cell_type": "markdown",
   "metadata": {},
   "source": [
    "Explain your code and procedure"
   ]
  },
  {
   "cell_type": "code",
   "execution_count": null,
   "metadata": {},
   "outputs": [],
   "source": [
    "# Resetting alpha and sigma to their respective baseline values\n",
    "model.par.alpha = 0.5\n",
    "model.par.sigma = 1.0\n",
    "\n",
    "# Defining male and female wages and retrieving them from HouseholdSpecializationModel\n",
    "wF = model.par.wF_vec\n",
    "wM = model.par.wM\n",
    "\n",
    "# Creating empty lists for the values of log(HF/HM) and log(wF/wM)\n",
    "log_ratio = []\n",
    "log_wages = []\n",
    "\n",
    "# Finding the optimal values for HF and HM by iteration using the continous solver\n",
    "# And appending them to the lists above\n",
    "for femalewages in wF:\n",
    "    model.par.wF = femalewages\n",
    "    opt = model.solve_continuous()\n",
    "    log_ratio.append(np.log(opt.HF/opt.HM))\n",
    "    log_wages.append(np.log(femalewages/wM))\n",
    "\n",
    "# Choose a visually appealing color palette\n",
    "cmap = plt.get_cmap('viridis')\n",
    "\n",
    "# Increase the size of the plot\n",
    "fig, ax = plt.subplots(figsize=(8, 6))\n",
    "\n",
    "# Plot log(HF/HM) and log(wF/wM) against each other\n",
    "ax.plot(log_wages, log_ratio, color=cmap(0.5))\n",
    "\n",
    "# Add grid lines\n",
    "ax.grid(True, which='both')\n",
    "\n",
    "# Add x and y axis labels and title\n",
    "ax.set_xlabel(\"$log(w_{F}/w_{M})$\", fontsize=15)\n",
    "ax.set_ylabel(\"$log(H_{F}/H_{M})$\", fontsize=15)\n",
    "ax.set_title(\"Relative home production to relative income\", fontsize=15)\n",
    "\n",
    "# Show the plot\n",
    "plt.show()"
   ]
  },
  {
   "cell_type": "markdown",
   "metadata": {},
   "source": [
    "# <a id='toc5_'></a>[Question 4](#toc0_)"
   ]
  },
  {
   "cell_type": "markdown",
   "metadata": {},
   "source": [
    "Explain your code and procedure"
   ]
  },
  {
   "cell_type": "code",
   "execution_count": null,
   "metadata": {},
   "outputs": [],
   "source": [
    "# a. use the 'estimate' function to estimate the optimal alpha and sigma \n",
    "model.estimate()\n",
    "\n",
    "# b. find the log H ratio \n",
    "log_H_ratio = np.log(model.sol.HF_vec/model.sol.HM_vec)\n",
    "\n",
    "# c. construct a figure to illustrate the relationship between log H ratio and log w ratio \n",
    "fig4 = plt.figure()\n",
    "ax = fig4.add_subplot(1,1,1)\n",
    "# d. add the 'log_H_ratio' and the weights as scatterplot \n",
    "ax.scatter(np.log(model.par.wF_vec),log_H_ratio)\n",
    "# e. add the regression from the model \n",
    "ax.plot(np.log(model.par.wF_vec),model.par.beta0_target+model.par.beta1_target*np.log(model.par.wF_vec))\n",
    "# f. set title and axis labels \n",
    "ax.set_title('Log relationship between ratio of hours worked and ratio of wage')\n",
    "ax.set_xlabel('$log(\\omega_F/\\omega_M)$')\n",
    "ax.set_ylabel('$log(H_F/H_M)$')"
   ]
  },
  {
   "cell_type": "code",
   "execution_count": null,
   "metadata": {},
   "outputs": [],
   "source": [
    "print(f\"Estimated alpha: {result.x[1]:.3f}\")\n",
    "print(f\"Estimated sigma: {result.x[0]:.3f}\")"
   ]
  },
  {
   "cell_type": "markdown",
   "metadata": {},
   "source": []
  },
  {
   "cell_type": "markdown",
   "metadata": {},
   "source": [
    "# <a id='toc6_'></a>[Question 5](#toc0_)"
   ]
  },
  {
   "cell_type": "markdown",
   "metadata": {},
   "source": [
    "Explain your code and procedure"
   ]
  },
  {
   "cell_type": "code",
   "execution_count": null,
   "metadata": {},
   "outputs": [],
   "source": [
    "# code"
   ]
  },
  {
   "cell_type": "markdown",
   "metadata": {},
   "source": [
    "ADD CONCISE CONLUSION."
   ]
  }
 ],
 "metadata": {
  "kernelspec": {
   "display_name": "base",
   "language": "python",
   "name": "python3"
  },
  "language_info": {
   "codemirror_mode": {
    "name": "ipython",
    "version": 3
   },
   "file_extension": ".py",
   "mimetype": "text/x-python",
   "name": "python",
   "nbconvert_exporter": "python",
   "pygments_lexer": "ipython3",
   "version": "3.8.8"
  },
  "toc-autonumbering": true,
  "vscode": {
   "interpreter": {
    "hash": "47ef90cdf3004d3f859f1fb202523c65c07ba7c22eefd261b181f4744e2d0403"
   }
  }
 },
 "nbformat": 4,
 "nbformat_minor": 4
}
